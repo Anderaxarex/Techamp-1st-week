{
 "cells": [
  {
   "cell_type": "code",
   "execution_count": 11,
   "metadata": {},
   "outputs": [
    {
     "name": "stdout",
     "output_type": "stream",
     "text": [
      "<!doctype html>\n",
      "<html lang=\"en\">\n",
      "  <head>\n",
      "    <meta charset=\"utf-8\">\n",
      "    <meta name=\"description\" content=\"HTTP\">\n",
      "    <title>HTTP</title>\n",
      "  </head>\n",
      "  <body>\n",
      "    <h2>Welcome to HTTP</h2>\n",
      "    <p>This is a GET. </p>\n",
      "    <p>part1: flag{n </p>\n",
      "  </body>\n",
      "</html>\n",
      "\n",
      "part2: ice_you_got_the_he\n",
      "\n",
      "{'Server': 'Werkzeug/2.1.2 Python/3.10.5, part3: ad!_ashkjdahsdk}', 'Date': 'Thu, 23 Jun 2022 17:16:32 GMT', 'Content-Type': 'text/html; charset=utf-8', 'Content-Length': '0', 'Connection': 'close'}\n"
     ]
    }
   ],
   "source": [
    "import requests\n",
    "\n",
    "part1 = requests.get(\"http://techcamp.jinblack.it:2002\")\n",
    "part2 = requests.post(\"http://techcamp.jinblack.it:2002\")\n",
    "part3 = requests.head(\"http://techcamp.jinblack.it:2002\")\n",
    "print(f\"{part1.text}\\n\\n{part2.text}\\n\\n{part3.headers}\")"
   ]
  }
 ],
 "metadata": {
  "kernelspec": {
   "display_name": "Python 3.9.13 64-bit (windows store)",
   "language": "python",
   "name": "python3"
  },
  "language_info": {
   "codemirror_mode": {
    "name": "ipython",
    "version": 3
   },
   "file_extension": ".py",
   "mimetype": "text/x-python",
   "name": "python",
   "nbconvert_exporter": "python",
   "pygments_lexer": "ipython3",
   "version": "3.9.13"
  },
  "orig_nbformat": 4,
  "vscode": {
   "interpreter": {
    "hash": "2f9dd1fdf8e9600bc09f53d323d2aeac2990d2f10a7beae9f9be81fc9b6bf638"
   }
  }
 },
 "nbformat": 4,
 "nbformat_minor": 2
}
