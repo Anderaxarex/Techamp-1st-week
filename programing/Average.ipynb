{
 "cells": [
  {
   "cell_type": "markdown",
   "id": "7cfa0d7a",
   "metadata": {},
   "source": [
    "# Compute the average\n",
    "\n",
    "Your task is to compute the average of the following list. \n",
    "\n",
    "The average value should be put in the string \"flag{here_goes_the_average}\". Example: \"flag{10.5}\""
   ]
  },
  {
   "cell_type": "code",
   "execution_count": 1,
   "id": "85758b5b",
   "metadata": {},
   "outputs": [],
   "source": [
    "myintlist = [71, 24, 38, 87, 61, 81, 97, 83, 53, 14, 92, 83, 39, 11, 11, 86, 86, 36, 66, 10, 83, 30, 58, 73, 30, 33, 6, 77, 23, 51, 43, 56, 74, 74, 82, 68, 63, 65, 66, 49, 89, 19, 84, 97, 97, 91, 26, 12, 26, 32, 93, 67, 73, 61, 19, 41, 78, 16, 95, 29, 87, 68, 75, 27, 61, 78, 43, 32, 70, 48, 97, 5, 43, 68, 20, 27, 74, 70, 5, 44, 47, 2, 1, 57, 18, 46, 71, 55, 24, 52, 32, 74, 54, 89, 42, 60, 46, 27, 41, 51]"
   ]
  },
  {
   "cell_type": "code",
   "execution_count": 7,
   "id": "2e577751",
   "metadata": {},
   "outputs": [
    {
     "name": "stdout",
     "output_type": "stream",
     "text": [
      "53.09\n"
     ]
    }
   ],
   "source": [
    "myintlist = [71, 24, 38, 87, 61, 81, 97, 83, 53, 14, 92, 83, 39, 11, 11, 86, 86, 36, 66, 10, 83, 30, 58, 73, 30, 33, 6, 77, 23, 51, 43, 56, 74, 74, 82, 68, 63, 65, 66, 49, 89, 19, 84, 97, 97, 91, 26, 12, 26, 32, 93, 67, 73, 61, 19, 41, 78, 16, 95, 29, 87, 68, 75, 27, 61, 78, 43, 32, 70, 48, 97, 5, 43, 68, 20, 27, 74, 70, 5, 44, 47, 2, 1, 57, 18, 46, 71, 55, 24, 52, 32, 74, 54, 89, 42, 60, 46, 27, 41, 51]\n",
    "\n",
    "def average(l: list):\n",
    "    amount = 0\n",
    "    for number in l:\n",
    "        amount += number\n",
    "    return amount / len(l)\n",
    "\n",
    "print(average(myintlist))"
   ]
  }
 ],
 "metadata": {
  "interpreter": {
   "hash": "2872f5083ce0cb4b718bad87ec5275b5eaf7b0b552face336b725aa8ae9a446e"
  },
  "kernelspec": {
   "display_name": "Python 3.10.4 64-bit (windows store)",
   "language": "python",
   "name": "python3"
  },
  "language_info": {
   "codemirror_mode": {
    "name": "ipython",
    "version": 3
   },
   "file_extension": ".py",
   "mimetype": "text/x-python",
   "name": "python",
   "nbconvert_exporter": "python",
   "pygments_lexer": "ipython3",
   "version": "3.10.4"
  }
 },
 "nbformat": 4,
 "nbformat_minor": 5
}
