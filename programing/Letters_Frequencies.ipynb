{
 "cells": [
  {
   "cell_type": "markdown",
   "id": "3880d433",
   "metadata": {},
   "source": [
    "# Letters' Frequencies\n",
    "\n",
    "You are asked to compute the percentages of the letters in the following string.\n",
    "\n",
    "The percentage of a letter can be computed with the formula letter_count/total_letters_count.\n",
    "\n",
    "Example: the string \"Hello world!\" has 10 letters.\n",
    "\n",
    "The 'e' letter appears 1 time -> Frequency of the 'e' letter is 1/10 = 0.1\n",
    "\n",
    "The 'o' letter appears 2 times -> Frequency of the 'o' letter is 2/10 = 0.2\n",
    "\n",
    "The 'l' letter appears 3 times -> Frequency of the 'l' letter is 3/10 = 0.3"
   ]
  },
  {
   "cell_type": "code",
   "execution_count": 1,
   "id": "96557975",
   "metadata": {},
   "outputs": [],
   "source": [
    "mystring = \"The place, I’ll make it all the same, I’ll make it in my head, I’ll draw it out of my memory, I’ll gather it all about me, I’ll make myself a head, I’ll make myself a memory, I have only to listen, the voice will tell me everything, tell it to me again, everything I need, in dribs and drabs, breathless, it’s like a confession, a last confession, you think it’s finished, then it starts off again, there were so many sins, the memory is so bad, the words don’t come, the words fail, the breath fails, no, it’s something else, it’s an indictment, a dying voice accusing, accusing me, you must accuse someone, a culprit is indispensable, it speaks of my sins, it speaks of my head, it says it’s mine, it says that I repent, that I want to be punished, better than I am, that I want to go, give myself up, a victim is essential, I have only to listen, it will show me my hiding-place, what it’s like, where the door is, if there’s a door, and whereabouts I am in it, and what lies between us, how the land lies, what kind of country, whether it’s sea, or whether it’s mountain, and the way to take, so that I may go, make my escape, give myself up, come to the place where the axe falls, without further ceremony, on all who come from here, I’m not the first, I won’t be the first, it will best me in the end, it has bested better than me, it will tell me what to do, in order to rise, move, act like a body endowed with despair, that’s how I reason, that’s how I hear myself reasoning, all lies, it’s not me they’re calling, not me they’re talking about, it’s not yet my turn, it’s someone else’s turn, that’s why I can’t stir, that’s why I don’t feel a body on me, I’m not suffering enough yet, it’s not yet my turn, not suffering enough to be able to stir, to have a body, complete with head, to be able to understand, to have eyes to light the way, I merely hear, without understanding, without being able to profit by it, by what I hear, to do what, to rise and go and be done with hearing, I don’t hear everything, that must be it, the important things escape me, it’s not my turn, the topographical and anatomical information in particular is lost on me, no, I hear everything, what difference does it make, the moment it’s not my turn, my turn to understand, my turn to live, my turn of the lifescrew, it calls that living, the space of the way from here to the door, it’s all there, in what I hear, somewhere, if all has been said, all this long time, all must have been said, but it’s not my turn to know what, to know what I am, where I am, and what I should do to stop being it, to stop being there, that’s coherent, so as to be another, no, the same, I don’t know, depart into life, travel the road, find the door, find the axe, perhaps it’s a cord, for the neck, for the throat, for the cords, or fingers, I’ll have eyes, I’ll see fingers, it will be the silence, perhaps it’s a drop, find the door, open the door, drop, into the silence, it won’t be I, I’ll stay here, or there, more likely there, it will never be I, that’s all I know, it’s all been done already, said and said again, the departure, the body that rises, the way, in colour, the arrival, the door that opens, closes again, it was never I, I’ve never stirred, I’ve listened, I must have spoken, why deny it, why not admit it, after all, I deny nothing, I admit nothing, I say what I hear, I hear what I say, I don’t know, one or the other, or both, that makes three possibilities, pick your fancy, all these stories about travelers, these stories about paralytics, all are mine, I must be extremely old, or it’s memory playing tricks, if only I knew if I’ve lived, if I live, if I’ll live, that would simplify everything, impossible to find out, that’s where you’re buggered, I haven’t stirred, that’s all I know, no, I know something else, it’s not I, I always forget that, I resume, you must resume, never stirred from here, never stopped telling stories, to myself, hardly hearing them, hearing something else, listening for something else, wondering now and then where I got them from, was I in the land of the living, were they in mine, and where, where do I store them, in my head, I don’t feel a head on me, and what do I tell them with, with my mouth, same remark, and what do I hear them with, and so on, the old rigmarole, it can’t be I, or it’s because I pay no heed, it’s such an old habit, I do it without heeding, or as if I were somewhere else, there I am far again, there I am the absentee again, it’s his turn again now, he who neither speaks nor listens, who has neither body nor soul, it’s something else he has, he must have something, he must be somewhere, he is made of silence, there’s a pretty analysis, he’s in the silence, he’s the one to be sought, the one to be, the one to be spoken of, the one to speak, but he can’t speak, then I could stop, I’d be he, I’d be the silence, I’d be back in the silence, we’d be reunited, his story the story to be told, but he has no story, he hasn’t been in story, it’s not certain, he’s in his own story, unimaginable, unspeakable, that doesn’t matter, the attempt must be made, in the old stories incomprehensibly mine, to find his, it must be there somewhere, it must have been mine, before being his, I’ll recognize it, in the end I’ll recognize it, the story of the silence that he never left, that I should never have left, that I may never find again, that I may find again, then it will be he, it will be I, it will be the place, the silence, the end, the beginning, the beginning again, how can I say it, that’s all words, they’re all I have, and not many of them, the words fail, the voice fails, so be it, I know that well, it will be the silence, full of murmurs, distant cries, the usual silence, spent listening, spent waiting, waiting for the voice, the cries abate, like all cries, that is to say they stop, the murmurs cease, they give up, the voice begins again, it begins trying again, quick now before there is none left, no voice left, nothing left but the core of murmurs, distant cries, quick now and try again, with the words that remain, try what, I don’t know, I’ve forgotten, it doesn’t matter, I never knew, to have them carry me into my story, the words that remain, my old story, which I’ve forgotten, far from here, through the noise, through the door, into the silence, that must be it, it’s too late, perhaps it’s too late, perhaps they have, how would I know, in the silence you don’t know, perhaps it’s the door, perhaps I’m at the door, that would surprise me, perhaps it’s I, perhaps somewhere or other it was I, I can depart, all this time I’ve journeyed without knowing it, it’s I now at the door, what door, what’s a door doing here, it’s the last words, the true last, or it’s the murmurs, the murmurs are coming, I know that well, no, not even that, you talk of murmurs, distant cries, as long as you can talk, you talk of them before and you talk of them after, more lies, it will be the silence, the one that doesn’t last, spent listening, spent waiting, for it to be broken, for the voice to break it, perhaps there’s no other, I don’t know, it’s not worth having, that’s all I know, it’s not I, that’s all I know, it’s not mine, it’s the only one I ever had, that’s a lie, I must have had the other, the one that lasts, but it didn’t last, I don’t understand, that is to say it did, it still lasts, I’m still in it, I left myself behind in it, I’m waiting for me there, no, there you don’t wait, you don’t listen, I don’t know, perhaps it’s a dream, all a dream, that would surprise me, I’ll wake, in the silence, and never sleep again, it will be I, or dream, dream again, dream of a silence, a dream silence, full of murmurs, I don’t know, that’s all words, never wake, all words, there’s nothing else, you must go on, that’s all I know, they’re going to stop, I know that well, I can feel it, they’re going to abandon me, it will be the silence, for a moment, a good few moments, or it will be mine, the lasting one, that didn’t last, that still lasts, it will be I, you must go on, I can’t go on, you must go on, I’ll go on, you must say words, as long as there are any, until they find me, until they say me, strange pain, strange sin, you must go on, perhaps it’s done already, perhaps they have said me already, perhaps they have carried me to the threshold of my story, before the door that opens on my story, that would surprise me, if it opens, it will be I, it will be the silence, where I am, I don’t know, I’ll never know, in the silence you don’t know, you must go on, I can’t go on, I’ll go on.\""
   ]
  },
  {
   "cell_type": "markdown",
   "id": "31658baa",
   "metadata": {},
   "source": [
    "The answer, as always, goes into the string \"flag{}\" with the following format:\n",
    "\n",
    "flag{a=0.xx-b=0.xx-...-z=0.xx}\n",
    "\n",
    "where xx are only 2 the decimal values of the frequency of the corresponding letters.\n",
    "\n",
    "To round a decimal number to 2 digits you can use the function round."
   ]
  },
  {
   "cell_type": "code",
   "execution_count": 2,
   "id": "1875d956",
   "metadata": {},
   "outputs": [
    {
     "data": {
      "text/plain": [
       "0.12"
      ]
     },
     "execution_count": 2,
     "metadata": {},
     "output_type": "execute_result"
    }
   ],
   "source": [
    "round(0.1234567, 2) # The second value is the number of decimal digits"
   ]
  },
  {
   "cell_type": "code",
   "execution_count": 3,
   "id": "0c338e36",
   "metadata": {},
   "outputs": [
    {
     "data": {
      "text/plain": [
       "0.988"
      ]
     },
     "execution_count": 3,
     "metadata": {},
     "output_type": "execute_result"
    }
   ],
   "source": [
    "round(0.98765, 3) # Automatically rounds at the closest value"
   ]
  },
  {
   "cell_type": "code",
   "execution_count": 4,
   "id": "89139ed2",
   "metadata": {},
   "outputs": [],
   "source": [
    "# Some helpers :D\n",
    "\n",
    "mystring = mystring.lower() # All letters become lowercase\n",
    "alphabet = 'abcdefghijklmnopqrstuvwxyz'"
   ]
  },
  {
   "cell_type": "code",
   "execution_count": 16,
   "id": "372de34b",
   "metadata": {},
   "outputs": [
    {
     "name": "stdout",
     "output_type": "stream",
     "text": [
      "a=0.07-b=0.02-c=0.02-d=0.03-e=0.13-f=0.02-g=0.02-h=0.06-i=0.09-j=0.0-k=0.01-l=0.05-m=0.03-n=0.07-o=0.07-p=0.01-q=0.0-r=0.05-s=0.06-t=0.11-u=0.02-v=0.01-w=0.02-x=0.0-y=0.02-z=0.0\n"
     ]
    }
   ],
   "source": [
    "mystring = \"The place, I’ll make it all the same, I’ll make it in my head, I’ll draw it out of my memory, I’ll gather it all about me, I’ll make myself a head, I’ll make myself a memory, I have only to listen, the voice will tell me everything, tell it to me again, everything I need, in dribs and drabs, breathless, it’s like a confession, a last confession, you think it’s finished, then it starts off again, there were so many sins, the memory is so bad, the words don’t come, the words fail, the breath fails, no, it’s something else, it’s an indictment, a dying voice accusing, accusing me, you must accuse someone, a culprit is indispensable, it speaks of my sins, it speaks of my head, it says it’s mine, it says that I repent, that I want to be punished, better than I am, that I want to go, give myself up, a victim is essential, I have only to listen, it will show me my hiding-place, what it’s like, where the door is, if there’s a door, and whereabouts I am in it, and what lies between us, how the land lies, what kind of country, whether it’s sea, or whether it’s mountain, and the way to take, so that I may go, make my escape, give myself up, come to the place where the axe falls, without further ceremony, on all who come from here, I’m not the first, I won’t be the first, it will best me in the end, it has bested better than me, it will tell me what to do, in order to rise, move, act like a body endowed with despair, that’s how I reason, that’s how I hear myself reasoning, all lies, it’s not me they’re calling, not me they’re talking about, it’s not yet my turn, it’s someone else’s turn, that’s why I can’t stir, that’s why I don’t feel a body on me, I’m not suffering enough yet, it’s not yet my turn, not suffering enough to be able to stir, to have a body, complete with head, to be able to understand, to have eyes to light the way, I merely hear, without understanding, without being able to profit by it, by what I hear, to do what, to rise and go and be done with hearing, I don’t hear everything, that must be it, the important things escape me, it’s not my turn, the topographical and anatomical information in particular is lost on me, no, I hear everything, what difference does it make, the moment it’s not my turn, my turn to understand, my turn to live, my turn of the lifescrew, it calls that living, the space of the way from here to the door, it’s all there, in what I hear, somewhere, if all has been said, all this long time, all must have been said, but it’s not my turn to know what, to know what I am, where I am, and what I should do to stop being it, to stop being there, that’s coherent, so as to be another, no, the same, I don’t know, depart into life, travel the road, find the door, find the axe, perhaps it’s a cord, for the neck, for the throat, for the cords, or fingers, I’ll have eyes, I’ll see fingers, it will be the silence, perhaps it’s a drop, find the door, open the door, drop, into the silence, it won’t be I, I’ll stay here, or there, more likely there, it will never be I, that’s all I know, it’s all been done already, said and said again, the departure, the body that rises, the way, in colour, the arrival, the door that opens, closes again, it was never I, I’ve never stirred, I’ve listened, I must have spoken, why deny it, why not admit it, after all, I deny nothing, I admit nothing, I say what I hear, I hear what I say, I don’t know, one or the other, or both, that makes three possibilities, pick your fancy, all these stories about travelers, these stories about paralytics, all are mine, I must be extremely old, or it’s memory playing tricks, if only I knew if I’ve lived, if I live, if I’ll live, that would simplify everything, impossible to find out, that’s where you’re buggered, I haven’t stirred, that’s all I know, no, I know something else, it’s not I, I always forget that, I resume, you must resume, never stirred from here, never stopped telling stories, to myself, hardly hearing them, hearing something else, listening for something else, wondering now and then where I got them from, was I in the land of the living, were they in mine, and where, where do I store them, in my head, I don’t feel a head on me, and what do I tell them with, with my mouth, same remark, and what do I hear them with, and so on, the old rigmarole, it can’t be I, or it’s because I pay no heed, it’s such an old habit, I do it without heeding, or as if I were somewhere else, there I am far again, there I am the absentee again, it’s his turn again now, he who neither speaks nor listens, who has neither body nor soul, it’s something else he has, he must have something, he must be somewhere, he is made of silence, there’s a pretty analysis, he’s in the silence, he’s the one to be sought, the one to be, the one to be spoken of, the one to speak, but he can’t speak, then I could stop, I’d be he, I’d be the silence, I’d be back in the silence, we’d be reunited, his story the story to be told, but he has no story, he hasn’t been in story, it’s not certain, he’s in his own story, unimaginable, unspeakable, that doesn’t matter, the attempt must be made, in the old stories incomprehensibly mine, to find his, it must be there somewhere, it must have been mine, before being his, I’ll recognize it, in the end I’ll recognize it, the story of the silence that he never left, that I should never have left, that I may never find again, that I may find again, then it will be he, it will be I, it will be the place, the silence, the end, the beginning, the beginning again, how can I say it, that’s all words, they’re all I have, and not many of them, the words fail, the voice fails, so be it, I know that well, it will be the silence, full of murmurs, distant cries, the usual silence, spent listening, spent waiting, waiting for the voice, the cries abate, like all cries, that is to say they stop, the murmurs cease, they give up, the voice begins again, it begins trying again, quick now before there is none left, no voice left, nothing left but the core of murmurs, distant cries, quick now and try again, with the words that remain, try what, I don’t know, I’ve forgotten, it doesn’t matter, I never knew, to have them carry me into my story, the words that remain, my old story, which I’ve forgotten, far from here, through the noise, through the door, into the silence, that must be it, it’s too late, perhaps it’s too late, perhaps they have, how would I know, in the silence you don’t know, perhaps it’s the door, perhaps I’m at the door, that would surprise me, perhaps it’s I, perhaps somewhere or other it was I, I can depart, all this time I’ve journeyed without knowing it, it’s I now at the door, what door, what’s a door doing here, it’s the last words, the true last, or it’s the murmurs, the murmurs are coming, I know that well, no, not even that, you talk of murmurs, distant cries, as long as you can talk, you talk of them before and you talk of them after, more lies, it will be the silence, the one that doesn’t last, spent listening, spent waiting, for it to be broken, for the voice to break it, perhaps there’s no other, I don’t know, it’s not worth having, that’s all I know, it’s not I, that’s all I know, it’s not mine, it’s the only one I ever had, that’s a lie, I must have had the other, the one that lasts, but it didn’t last, I don’t understand, that is to say it did, it still lasts, I’m still in it, I left myself behind in it, I’m waiting for me there, no, there you don’t wait, you don’t listen, I don’t know, perhaps it’s a dream, all a dream, that would surprise me, I’ll wake, in the silence, and never sleep again, it will be I, or dream, dream again, dream of a silence, a dream silence, full of murmurs, I don’t know, that’s all words, never wake, all words, there’s nothing else, you must go on, that’s all I know, they’re going to stop, I know that well, I can feel it, they’re going to abandon me, it will be the silence, for a moment, a good few moments, or it will be mine, the lasting one, that didn’t last, that still lasts, it will be I, you must go on, I can’t go on, you must go on, I’ll go on, you must say words, as long as there are any, until they find me, until they say me, strange pain, strange sin, you must go on, perhaps it’s done already, perhaps they have said me already, perhaps they have carried me to the threshold of my story, before the door that opens on my story, that would surprise me, if it opens, it will be I, it will be the silence, where I am, I don’t know, I’ll never know, in the silence you don’t know, you must go on, I can’t go on, I’ll go on.\"\n",
    "mystring = mystring.lower() # All letters become lowercase\n",
    "alphabet = 'abcdefghijklmnopqrstuvwxyz'\n",
    "\n",
    "frequencyDict = {\n",
    "    'a' :  0,\n",
    "    'b' :  0,\n",
    "    'c' :  0,\n",
    "    'd' :  0,\n",
    "    'e' :  0,\n",
    "    'f' :  0,\n",
    "    'g' :  0,\n",
    "    'h' :  0,\n",
    "    'i' :  0,\n",
    "    'j' :  0,\n",
    "    'k' :  0,\n",
    "    'l' :  0,\n",
    "    'm' :  0,\n",
    "    'n' :  0,\n",
    "    'o' :  0,\n",
    "    'p' :  0,\n",
    "    'q' :  0,\n",
    "    'r' :  0,\n",
    "    's' :  0,\n",
    "    't' :  0,\n",
    "    'u' :  0,\n",
    "    'v' :  0,\n",
    "    'w' :  0,\n",
    "    'x' :  0,\n",
    "    'y' :  0,\n",
    "    'z' :  0\n",
    "}\n",
    "\n",
    "for letter in mystring:\n",
    "    if letter in alphabet:\n",
    "        frequencyDict[letter] += 1\n",
    "\n",
    "filtered = \"\"\n",
    "for element in mystring:\n",
    "    if element in alphabet:\n",
    "        filtered += element\n",
    "\n",
    "\n",
    "for element in alphabet:\n",
    "    frequencyDict[element] = round(frequencyDict[element] / len(filtered), 2)\n",
    "\n",
    "print(\"-\".join(f\"{letter}={frequencyDict[letter]}\" for letter in alphabet))\n",
    "\n",
    "\n",
    "\n"
   ]
  }
 ],
 "metadata": {
  "kernelspec": {
   "display_name": "Python 3.10.5 64-bit (windows store)",
   "language": "python",
   "name": "python3"
  },
  "language_info": {
   "codemirror_mode": {
    "name": "ipython",
    "version": 3
   },
   "file_extension": ".py",
   "mimetype": "text/x-python",
   "name": "python",
   "nbconvert_exporter": "python",
   "pygments_lexer": "ipython3",
   "version": "3.10.5"
  },
  "vscode": {
   "interpreter": {
    "hash": "2872f5083ce0cb4b718bad87ec5275b5eaf7b0b552face336b725aa8ae9a446e"
   }
  }
 },
 "nbformat": 4,
 "nbformat_minor": 5
}
