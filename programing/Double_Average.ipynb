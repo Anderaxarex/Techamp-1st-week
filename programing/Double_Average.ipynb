{
 "cells": [
  {
   "cell_type": "markdown",
   "id": "4a1124ae",
   "metadata": {},
   "source": [
    "# Compute the averages\n",
    "\n",
    "Your task is to compute the averages of the even and odd numbers of following list. \n",
    "\n",
    "The average values should be put in the string \"flag{avg_odd-avg_even}\". Example: \"flag{10.5-20.4}\""
   ]
  },
  {
   "cell_type": "code",
   "execution_count": 1,
   "id": "cafe19c6",
   "metadata": {},
   "outputs": [],
   "source": [
    "myintlist = [22, 13, 74, 45, 88, 76, 67, 29, 81, 13, 13, 66, 39, 15, 47, 64, 8, 21, 63, 76, 31, 23, 39, 5, 6, 82, 84, 31, 42, 99, 18, 69, 43, 60, 63, 7, 58, 40, 46, 66, 100, 34, 79, 10, 19, 95, 37, 10, 92, 75, 9, 29, 35, 92, 83, 34, 47, 15, 30, 2, 12, 67, 56, 85, 20, 18, 39, 35, 86, 7, 70, 41, 89, 78, 78, 86, 34, 38, 26, 18, 90, 60, 13, 79, 8, 12, 50, 88, 65, 2, 92, 80, 83, 72, 15, 11, 49, 2, 21, 71, 1, 27, 58, 27, 68, 12, 98, 22, 21, 32, 12, 4, 67, 12, 37, 80, 89, 71, 45, 15, 81, 94, 73, 66, 77, 15, 39, 44, 39, 27, 27, 55, 49, 8, 94, 19, 20, 28, 21, 85, 51, 6, 15, 59, 7, 4, 71, 26, 45, 1, 56, 58, 31, 34, 32, 12, 14, 18, 25, 59, 22, 98, 83, 28, 59, 91, 9, 82, 43, 42, 98, 58, 73, 7, 31, 75, 18, 98, 6, 51, 33, 87, 64, 27, 32, 28, 7, 10, 16, 89, 32, 81, 99, 49, 86, 68, 72, 67, 9, 80]"
   ]
  },
  {
   "cell_type": "code",
   "execution_count": 6,
   "id": "4a61c495",
   "metadata": {},
   "outputs": [
    {
     "name": "stdout",
     "output_type": "stream",
     "text": [
      "[I] pari: 47.0\n",
      "[I] dispari: 45.0\n"
     ]
    }
   ],
   "source": [
    "myintlist = [22, 13, 74, 45, 88, 76, 67, 29, 81, 13, 13, 66, 39, 15, 47, 64, 8, 21, 63, 76, 31, 23, 39, 5, 6, 82, 84, 31, 42, 99, 18, 69, 43, 60, 63, 7, 58, 40, 46, 66, 100, 34, 79, 10, 19, 95, 37, 10, 92, 75, 9, 29, 35, 92, 83, 34, 47, 15, 30, 2, 12, 67, 56, 85, 20, 18, 39, 35, 86, 7, 70, 41, 89, 78, 78, 86, 34, 38, 26, 18, 90, 60, 13, 79, 8, 12, 50, 88, 65, 2, 92, 80, 83, 72, 15, 11, 49, 2, 21, 71, 1, 27, 58, 27, 68, 12, 98, 22, 21, 32, 12, 4, 67, 12, 37, 80, 89, 71, 45, 15, 81, 94, 73, 66, 77, 15, 39, 44, 39, 27, 27, 55, 49, 8, 94, 19, 20, 28, 21, 85, 51, 6, 15, 59, 7, 4, 71, 26, 45, 1, 56, 58, 31, 34, 32, 12, 14, 18, 25, 59, 22, 98, 83, 28, 59, 91, 9, 82, 43, 42, 98, 58, 73, 7, 31, 75, 18, 98, 6, 51, 33, 87, 64, 27, 32, 28, 7, 10, 16, 89, 32, 81, 99, 49, 86, 68, 72, 67, 9, 80]\n",
    "\n",
    "def dividi(l: list) -> tuple:\n",
    "    odd = []\n",
    "    even = []\n",
    "    for number in range(0, len(l)):\n",
    "        if l[number] % 2 == 0:\n",
    "            even.append(l[number])\n",
    "        else:\n",
    "            odd.append(l[number])\n",
    "    return even, odd\n",
    "\n",
    "def media(l: list):\n",
    "    amount = 0\n",
    "    for number in l:\n",
    "        amount += number\n",
    "    return amount / len(l)\n",
    "\n",
    "pari, dispari = dividi(myintlist)\n",
    "\n",
    "print(f\"\"\"[I] pari: {media(pari)}\n",
    "[I] dispari: {media(dispari)}\"\"\")\n",
    "\n"
   ]
  }
 ],
 "metadata": {
  "interpreter": {
   "hash": "2872f5083ce0cb4b718bad87ec5275b5eaf7b0b552face336b725aa8ae9a446e"
  },
  "kernelspec": {
   "display_name": "Python 3.10.5 64-bit (windows store)",
   "language": "python",
   "name": "python3"
  },
  "language_info": {
   "codemirror_mode": {
    "name": "ipython",
    "version": 3
   },
   "file_extension": ".py",
   "mimetype": "text/x-python",
   "name": "python",
   "nbconvert_exporter": "python",
   "pygments_lexer": "ipython3",
   "version": "3.10.5"
  }
 },
 "nbformat": 4,
 "nbformat_minor": 5
}
